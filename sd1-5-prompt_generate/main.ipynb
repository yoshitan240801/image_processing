{
 "cells": [
  {
   "cell_type": "code",
   "execution_count": null,
   "metadata": {
    "id": "snjNRTNOGPQ2"
   },
   "outputs": [],
   "source": [
    "from datetime import datetime\n",
    "import matplotlib.pyplot as plt\n",
    "import PIL\n",
    "import IPython\n",
    "import torch\n",
    "import torchvision\n",
    "import diffusers"
   ]
  },
  {
   "cell_type": "code",
   "execution_count": null,
   "metadata": {
    "id": "ZrLeSA54HWAM"
   },
   "outputs": [],
   "source": [
    "DEVICE = torch.device(\"cuda:0\" if torch.cuda.is_available() else \"cpu\")\n",
    "MODEL_ID = \"NoCrypt/SomethingV2_2\""
   ]
  },
  {
   "cell_type": "code",
   "execution_count": null,
   "metadata": {
    "id": "F0TrVDqpHkO4"
   },
   "outputs": [],
   "source": [
    "# https://huggingface.co/docs/diffusers/main/en/api/pipelines/overview#diffusers.DiffusionPipeline.from_pretrained\n",
    "pipe = diffusers.DiffusionPipeline.from_pretrained(pretrained_model_name_or_path=MODEL_ID,\n",
    "                                                   torch_dtype=torch.float16)\n",
    "pipe.to(DEVICE)"
   ]
  },
  {
   "cell_type": "code",
   "execution_count": null,
   "metadata": {
    "id": "eEch7Qm0IUgz"
   },
   "outputs": [],
   "source": [
    "output = pipe(prompt=\"masterpiece, 1girl, brown eyes, black long hair, smile, looking at viewer, simple shirt, simple background, upper body, best quality, extremely detailed\",\n",
    "              height=512,\n",
    "              width=512,\n",
    "              num_inference_steps=20,\n",
    "              timesteps=None,\n",
    "              sigmas=None,\n",
    "              guidance_scale=7.0,\n",
    "              negative_prompt=\"nsfw, longbody, lowres, bad anatomy, bad hands, missing fingers, extra digit, fewer digits, cropped, worst quality, low quality\",\n",
    "              num_images_per_prompt=10,\n",
    "              generator=torch.Generator().manual_seed(1234),\n",
    "              output_type=\"pil\",\n",
    "              clip_skip=None)"
   ]
  },
  {
   "cell_type": "code",
   "execution_count": null,
   "metadata": {
    "id": "U1Q6hxJUqlk3"
   },
   "outputs": [],
   "source": [
    "print(type(output.images))\n",
    "fig = plt.figure(figsize=(10, 5))  # figsizeは(横, 縦)\n",
    "for i in range(len(output.images)):\n",
    "    fig.add_subplot(2, 5, i+1)  # add_subplotは(行, 列, 対象の要素)\n",
    "    plt.imshow(output.images[i])\n",
    "    plt.title(i)\n",
    "    plt.axis(\"off\")\n",
    "plt.subplots_adjust(wspace=0, hspace=0.25)\n",
    "plt.show()\n",
    "for j in range(len(output.images)):\n",
    "    print(output.images[j])\n",
    "    IPython.display.display(output.images[j])\n",
    "    # ファイルとして保存する場合\n",
    "    # now = datetime.now()\n",
    "    # now_timestamp = str(now.year) + str(now.month) + str(now.day) + str(now.hour) + str(now.minute)\n",
    "    # output.images[j].save(\"./{a}_{b}.jpeg\".format(a=now_timestamp, b=j),\n",
    "    #                       \"JPEG\",\n",
    "    #                       quality=95)"
   ]
  }
 ],
 "metadata": {
  "accelerator": "GPU",
  "colab": {
   "authorship_tag": "ABX9TyN9H3YDUd6Z9Pdq/Q3o6XWm",
   "gpuType": "T4",
   "provenance": []
  },
  "kernelspec": {
   "display_name": "Python 3 (ipykernel)",
   "language": "python",
   "name": "python3"
  },
  "language_info": {
   "codemirror_mode": {
    "name": "ipython",
    "version": 3
   },
   "file_extension": ".py",
   "mimetype": "text/x-python",
   "name": "python",
   "nbconvert_exporter": "python",
   "pygments_lexer": "ipython3",
   "version": "3.13.7"
  }
 },
 "nbformat": 4,
 "nbformat_minor": 4
}
