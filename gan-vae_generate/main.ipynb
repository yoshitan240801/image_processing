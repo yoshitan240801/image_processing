{
 "cells": [
  {
   "cell_type": "markdown",
   "metadata": {
    "id": "NY8oqpCRiVnV"
   },
   "source": [
    "**画像生成タスクとして、GANのGenerator部分をVAEにしてみる**"
   ]
  },
  {
   "cell_type": "code",
   "execution_count": null,
   "metadata": {
    "executionInfo": {
     "elapsed": 34461,
     "status": "ok",
     "timestamp": 1747925786583,
     "user": {
      "displayName": "forML",
      "userId": "00184597541824520416"
     },
     "user_tz": -540
    },
    "id": "7NBcexlRiupF"
   },
   "outputs": [],
   "source": [
    "from datetime import datetime\n",
    "import IPython\n",
    "import os\n",
    "import pickle\n",
    "import PIL\n",
    "import pprint\n",
    "import random\n",
    "\n",
    "import datasets\n",
    "import matplotlib\n",
    "import matplotlib.pyplot as plt\n",
    "import numpy as np\n",
    "import pandas as pd\n",
    "import torch\n",
    "import torchinfo\n",
    "import torchvision\n",
    "from tqdm.notebook import tqdm\n",
    "random.seed(3407)\n",
    "np.random.seed(3407)\n",
    "torch.manual_seed(3407)\n",
    "torch.cuda.manual_seed(3407)\n",
    "torch.backends.cudnn.benchmark = True  # ループ内で順伝播や逆伝播が同じ計算手法ならば処理を高速化させる"
   ]
  },
  {
   "cell_type": "code",
   "execution_count": null,
   "metadata": {
    "id": "CJ9jGw6RizsD"
   },
   "outputs": [],
   "source": [
    "device = torch.device(\"cuda:0\" if torch.cuda.is_available() else \"cpu\")"
   ]
  },
  {
   "cell_type": "markdown",
   "metadata": {
    "id": "z6pKD2mZi_N8"
   },
   "source": [
    "**データ収集(今回はデータとして、HuggingFaceにあるアニメ顔画像を使う)**"
   ]
  },
  {
   "cell_type": "code",
   "execution_count": null,
   "metadata": {
    "id": "IzOOutFdjAWE"
   },
   "outputs": [],
   "source": [
    "# HuggingFaceにあるアニメ顔画像DatasetDictをロード\n",
    "hugging_face_dataset_dict = datasets.load_dataset(\"DrishtiSharma/Anime-Face-Dataset\",\n",
    "                                                  trust_remote_code=True)\n",
    "# ロードしたDatasetDictからDataset(DatasetDictにあるtrainのDatasetのみ)を取得\n",
    "ds = hugging_face_dataset_dict[\"train\"]\n",
    "# Datasetを確認\n",
    "print(ds)\n",
    "# Dataset内のデータのタイプを確認\n",
    "print(ds.features)\n",
    "# 一部のデータは白黒画像などで3階数テンソルではないので、そのデータを弾く\n",
    "RGB_row_list_1 = [id_1 for id_1 in range(ds.num_rows) if len(np.array(ds[id_1][\"image\"]).shape) == 3]  # 3階数テンソルである画像データの行番号を取得\n",
    "ds = ds.select(indices=RGB_row_list_1)  # その行番号のデータだけを取得\n",
    "# 一部のデータは3チャンネルでなく、4チャンネル(αチャンネルを持つ)なので、そのデータを弾く\n",
    "RGB_row_list_2 = [id_2 for id_2 in range(ds.num_rows) if np.array(ds[id_2][\"image\"]).shape[2] == 3]  # チャンネル数が3である画像データの行番号を取得\n",
    "ds = ds.select(indices=RGB_row_list_2)  # その行番号のデータだけを取得\n",
    "# データを確認\n",
    "print(ds.num_rows)\n",
    "print(len(ds))  # 後続でのDataset処理を踏まえて、lenでもデータ数を取得出来る事を確認\n",
    "print(ds[100][\"image\"])\n",
    "IPython.display.display(ds[100][\"image\"])\n",
    "print(np.array(ds[100][\"image\"]).shape)"
   ]
  },
  {
   "cell_type": "code",
   "execution_count": null,
   "metadata": {
    "id": "rLd3aD-8jIuK"
   },
   "outputs": [],
   "source": [
    "fig = plt.figure(figsize=(10, 12))\n",
    "for i in range(30):\n",
    "    fig.add_subplot(6, 5, i+1)\n",
    "    plt.imshow(np.array(ds[i][\"image\"]))\n",
    "    plt.axis(\"off\")\n",
    "plt.subplots_adjust(wspace=0,\n",
    "                    hspace=0)\n",
    "plt.show()"
   ]
  },
  {
   "cell_type": "markdown",
   "metadata": {
    "id": "AK1GFXVmjMdK"
   },
   "source": [
    "**訓練データ(正解ラベル無しデータ)を準備**"
   ]
  },
  {
   "cell_type": "code",
   "execution_count": null,
   "metadata": {
    "id": "QpxK5s2NjNXC"
   },
   "outputs": [],
   "source": [
    "# 生成タスクなので、validationデータでの評価を行わないため、validationデータは作らない\n",
    "num_data = ds.num_rows\n",
    "# データの1%(約600個)のデータを使う\n",
    "# train_image_ds = ds[:int(num_data*0.01)][\"image\"]\n",
    "train_image_ds = ds[1:4][\"image\"]\n",
    "for i in range(len(train_image_ds)):\n",
    "    print(train_image_ds[i])\n",
    "    IPython.display.display(train_image_ds[i])"
   ]
  },
  {
   "cell_type": "markdown",
   "metadata": {
    "id": "2A8c2K4gjhIi"
   },
   "source": [
    "**前処理(データ拡張含む)の準備**"
   ]
  },
  {
   "cell_type": "code",
   "execution_count": null,
   "metadata": {
    "id": "4pW1joFnje7S"
   },
   "outputs": [],
   "source": [
    "# データ拡張(Data Augmentation)を定義\n",
    "image_transform_method = torchvision.transforms.Compose([torchvision.transforms.Resize(size=(96, 96)),\n",
    "                                                         torchvision.transforms.RandomHorizontalFlip(p=0.5),\n",
    "                                                         torchvision.transforms.RandomRotation(degrees=(-10, 10))])"
   ]
  },
  {
   "cell_type": "code",
   "execution_count": null,
   "metadata": {
    "id": "kAjl9_uhj1W7"
   },
   "outputs": [],
   "source": [
    "# 正規化とテンソル化を定義\n",
    "def normalize_and_tensorize(PIL_image):\n",
    "    array_image = np.array(PIL_image).transpose(2, 0, 1)  # PILをnumpyにして、形状を(チャンネル, 縦, 横)\n",
    "    normalize_array_image = array_image / 255  # 255で割って正規化\n",
    "    normalize_tensor_image = torch.FloatTensor(normalize_array_image)  # arrayをtensorにする\n",
    "    return normalize_tensor_image"
   ]
  },
  {
   "cell_type": "code",
   "execution_count": null,
   "metadata": {
    "id": "VhsWvmq9j9D6"
   },
   "outputs": [],
   "source": [
    "# Datasetクラスを定義\n",
    "class MyDataset(torch.utils.data.Dataset):\n",
    "    def __init__(self, image_datas, data_augmentation, tensorize):\n",
    "        super().__init__()\n",
    "        self.image_datas = image_datas\n",
    "        self.data_augmentation = data_augmentation\n",
    "        self.tensorize = tensorize\n",
    "\n",
    "    def __len__(self):\n",
    "        return len(self.image_datas)\n",
    "\n",
    "    def __getitem__(self, idx):\n",
    "        image = self.image_datas[idx]\n",
    "        augmentation_image = self.data_augmentation(image)\n",
    "        augmentation_tensor_image = self.tensorize(PIL_image=augmentation_image)\n",
    "        return augmentation_tensor_image"
   ]
  },
  {
   "cell_type": "markdown",
   "metadata": {
    "id": "pqCmSKNekFuT"
   },
   "source": [
    "**前処理**"
   ]
  },
  {
   "cell_type": "code",
   "execution_count": null,
   "metadata": {
    "id": "Dd32b0SbkGiN"
   },
   "outputs": [],
   "source": [
    "train_dataset = MyDataset(image_datas=train_image_ds,\n",
    "                          data_augmentation=image_transform_method,\n",
    "                          tensorize=normalize_and_tensorize)"
   ]
  },
  {
   "cell_type": "code",
   "execution_count": null,
   "metadata": {
    "id": "KpuRorhVkJPp"
   },
   "outputs": [],
   "source": [
    "train_dataset_dataloader = torch.utils.data.DataLoader(dataset=train_dataset,\n",
    "                                                       batch_size=50,\n",
    "                                                       shuffle=True)"
   ]
  },
  {
   "cell_type": "markdown",
   "metadata": {
    "id": "XZ0ZWp-hkOMy"
   },
   "source": [
    "**GAN including VAEモデルを作成**"
   ]
  },
  {
   "cell_type": "markdown",
   "metadata": {
    "id": "MMEELTOGkSxp"
   },
   "source": [
    "Generator側(VAEモデル)"
   ]
  },
  {
   "cell_type": "code",
   "execution_count": null,
   "metadata": {
    "id": "B_CieNSMkaFR"
   },
   "outputs": [],
   "source": [
    "class MyVAEEncoderConvLayer(torch.nn.Module):\n",
    "    def __init__(self, input_n, output_n):\n",
    "        super().__init__()\n",
    "        self.layer_1 = torch.nn.Conv2d(in_channels=input_n,  # チャンネル数を指定の値にして、解像度を半分にする\n",
    "                                       out_channels=output_n,\n",
    "                                       kernel_size=2,\n",
    "                                       stride=2,\n",
    "                                       padding=0)\n",
    "        self.layer_2 = torch.nn.BatchNorm2d(num_features=output_n)\n",
    "\n",
    "    def forward(self, in_data_layer):\n",
    "        out_data_layer_1 = self.layer_1(in_data_layer)\n",
    "        out_data_layer_2 = torch.nn.functional.leaky_relu(input=self.layer_2(out_data_layer_1),  # BatchNormの後にLeakyReLU\n",
    "                                                          negative_slope=0.01)\n",
    "        return out_data_layer_2"
   ]
  },
  {
   "cell_type": "code",
   "execution_count": null,
   "metadata": {
    "id": "UwNvN4mfnPTO"
   },
   "outputs": [],
   "source": [
    "class MyVAEEncoder(torch.nn.Module):\n",
    "    def __init__(self, in_num, out_num, hw_size):\n",
    "        super().__init__()\n",
    "        self.layer_1 = MyVAEEncoderConvLayer(input_n=in_num,\n",
    "                                             output_n=32)\n",
    "        self.layer_2 = MyVAEEncoderConvLayer(input_n=32,\n",
    "                                             output_n=64)\n",
    "        self.layer_3 = MyVAEEncoderConvLayer(input_n=64,\n",
    "                                             output_n=128)\n",
    "        self.layer_4 = MyVAEEncoderConvLayer(input_n=128,\n",
    "                                             output_n=256)\n",
    "        self.layer_5 = MyVAEEncoderConvLayer(input_n=256,\n",
    "                                             output_n=512)\n",
    "        self.layer_6_mu = torch.nn.Linear(in_features=512*int(hw_size/(2**5))*int(hw_size/(2**5)),\n",
    "                                          out_features=out_num)  # out_num(z_dim)は256\n",
    "        self.layer_6_sigma = torch.nn.Linear(in_features=512*int(hw_size/(2**5))*int(hw_size/(2**5)),\n",
    "                                             out_features=out_num)  # out_num(z_dim)は256\n",
    "\n",
    "    def forward(self, in_data_encoder):\n",
    "        # print(\"en_in\", in_data_encoder.shape)  # (50, 3, 96, 96)\n",
    "        out_data_layer_1 = self.layer_1(in_data_encoder)\n",
    "        # print(\"en_1\", out_data_layer_1.shape)  # (50, 32, 48, 48)\n",
    "        out_data_layer_2 = self.layer_2(out_data_layer_1)\n",
    "        # print(\"en_2\", out_data_layer_2.shape)  # (50, 64, 24, 24)\n",
    "        out_data_layer_3 = self.layer_3(out_data_layer_2)\n",
    "        # print(\"en_3\", out_data_layer_3.shape)  # (50, 128, 12, 12)\n",
    "        out_data_layer_4 = self.layer_4(out_data_layer_3)\n",
    "        # print(\"en_4\", out_data_layer_4.shape)  # (50, 256, 6, 6)\n",
    "        out_data_layer_5 = self.layer_5(out_data_layer_4)\n",
    "        # print(\"en_5\", out_data_layer_5.shape)  # (50, 512, 3, 3)\n",
    "        c = out_data_layer_5.shape[1]\n",
    "        h = out_data_layer_5.shape[2]\n",
    "        w = out_data_layer_5.shape[3]\n",
    "        in_data_layer_6 = out_data_layer_5.view(-1, c*h*w)\n",
    "        # print(\"en_in5\", in_data_layer_5.shape)  # (50, 4608)\n",
    "        mu = self.layer_6_mu(in_data_layer_6)  # 潜在変数のネタ1(μ)\n",
    "        # print(\"mu\", mu.shape)  # (50, 256)\n",
    "        sigma = self.layer_6_sigma(in_data_layer_6)  # 潜在変数のネタ2(σ)\n",
    "        # print(\"sigma\", sigma.shape)  # (50, 256)\n",
    "        epsilon = torch.randn_like(mu)  # 潜在変数のネタ3(ε)で、正規分布の乱数\n",
    "        # print(\"epsilon\", epsilon.shape)  # (50, 256)\n",
    "        z = mu + torch.exp(sigma/2) * epsilon  # 再パラメータ化トリックで算出した潜在変数(z)\n",
    "        # print(\"z\", z.shape)  # (50, 256)\n",
    "        return z, mu, sigma"
   ]
  },
  {
   "cell_type": "code",
   "execution_count": null,
   "metadata": {
    "id": "i7ppdAIuncr3"
   },
   "outputs": [],
   "source": [
    "class MyVAEDecoderUpConvLayer(torch.nn.Module):\n",
    "    def __init__(self, input_n, output_n):\n",
    "        super().__init__()\n",
    "        self.layer_1 = torch.nn.ConvTranspose2d(in_channels=input_n,  # チャンネル数を指定の値にして、解像度を2倍にする\n",
    "                                                out_channels=output_n,\n",
    "                                                kernel_size=3,\n",
    "                                                stride=2,\n",
    "                                                padding=1,\n",
    "                                                output_padding=1)\n",
    "        self.layer_2 = torch.nn.BatchNorm2d(num_features=output_n)\n",
    "\n",
    "    def forward(self, in_data_layer):\n",
    "        out_data_layer_1 = self.layer_1(in_data_layer)\n",
    "        out_data_layer_2 = torch.nn.functional.leaky_relu(input=self.layer_2(out_data_layer_1),  # BatchNormの後にLeakyReLU\n",
    "                                                          negative_slope=0.01)\n",
    "        return out_data_layer_2"
   ]
  },
  {
   "cell_type": "code",
   "execution_count": null,
   "metadata": {
    "id": "mNpxkLt0ne9i"
   },
   "outputs": [],
   "source": [
    "class MyVAEDecoder(torch.nn.Module):\n",
    "    def __init__(self, in_num, out_num, hw_size):\n",
    "        super().__init__()\n",
    "        self.hw_size = int(hw_size/2**5)  # 96/2^5=3\n",
    "        self.layer_1 = torch.nn.Linear(in_features=in_num,  # in_num(z_dim)は256\n",
    "                                       out_features=512*self.hw_size*self.hw_size)\n",
    "        self.layer_2 = MyVAEDecoderUpConvLayer(input_n=512,\n",
    "                                               output_n=256)\n",
    "        self.layer_3 = MyVAEDecoderUpConvLayer(input_n=256,\n",
    "                                               output_n=128)\n",
    "        self.layer_4 = MyVAEDecoderUpConvLayer(input_n=128,\n",
    "                                               output_n=64)\n",
    "        self.layer_5 = MyVAEDecoderUpConvLayer(input_n=64,\n",
    "                                               output_n=32)\n",
    "        self.layer_6 = MyVAEDecoderUpConvLayer(input_n=32,\n",
    "                                               output_n=3)\n",
    "        self.layer_7 = torch.nn.Conv2d(in_channels=3,\n",
    "                                       out_channels=out_num,\n",
    "                                       kernel_size=3,\n",
    "                                       stride=1,\n",
    "                                       padding=1)\n",
    "\n",
    "    def forward(self, in_data_decoder):\n",
    "        # print(\"de_in\", in_data_decoder.shape)  # (50, 256)\n",
    "        out_data_layer_1 = torch.nn.functional.leaky_relu(input=self.layer_1(in_data_decoder),  # 全結合層の後にLeakyReLU\n",
    "                                                          negative_slope=0.01)\n",
    "        # print(\"de_1\", out_data_layer_1.shape)  # (50, 4608)\n",
    "        in_data_layer_2 = out_data_layer_1.view(-1, 512, self.hw_size, self.hw_size)\n",
    "        # print(\"de_in2\", in_data_layer_2.shape)  # (50, 512, 3, 3)\n",
    "        out_data_layer_2 = self.layer_2(in_data_layer_2)\n",
    "        # print(\"de_2\", out_data_layer_2.shape)  # (50, 256, 6, 6)\n",
    "        out_data_layer_3 = self.layer_3(out_data_layer_2)\n",
    "        # print(\"de_3\", out_data_layer_3.shape)  # (50, 128, 12, 12)\n",
    "        out_data_layer_4 = self.layer_4(out_data_layer_3)\n",
    "        # print(\"de_4\", out_data_layer_4.shape)  # (50, 64, 24, 24)\n",
    "        out_data_layer_5 = self.layer_5(out_data_layer_4)\n",
    "        # print(\"de_5\", out_data_layer_5.shape)  # (50, 32, 48, 48)\n",
    "        out_data_layer_6 = self.layer_6(out_data_layer_5)\n",
    "        # print(\"de_6\", out_data_layer_6.shape)  # (50, 3, 96, 96)\n",
    "        out_data_layer_7 = self.layer_7(out_data_layer_6)\n",
    "        # print(\"de_7\", out_data_layer_7.shape)  # (50, 3, 96, 96)\n",
    "        return out_data_layer_7"
   ]
  },
  {
   "cell_type": "code",
   "execution_count": null,
   "metadata": {
    "id": "SyZOCX6vntPe"
   },
   "outputs": [],
   "source": [
    "class MyGenerator(torch.nn.Module):\n",
    "    def __init__(self, in_dim, z_dim, out_dim, size):\n",
    "        super().__init__()\n",
    "        self.layer_encoder = MyVAEEncoder(in_num=in_dim,\n",
    "                                          out_num=z_dim,\n",
    "                                          hw_size=size)\n",
    "        self.layer_decoder = MyVAEDecoder(in_num=z_dim,\n",
    "                                          out_num=out_dim,\n",
    "                                          hw_size=size)\n",
    "\n",
    "    def forward(self, in_data):\n",
    "        z, mu, sigma = self.layer_encoder(in_data)\n",
    "        out_data = self.layer_decoder(z)\n",
    "        return out_data, z, mu, sigma\n",
    "\n",
    "    def generate_image(self, in_tensor_data):\n",
    "        out_data = self.layer_decoder(in_tensor_data)\n",
    "        out_data_sigmoid = torch.sigmoid(out_data)  # テンソルの要素の値を0～1にするため\n",
    "        return out_data_sigmoid"
   ]
  },
  {
   "cell_type": "markdown",
   "metadata": {
    "id": "U3j3NbFon03x"
   },
   "source": [
    "Discriminator側"
   ]
  },
  {
   "cell_type": "code",
   "execution_count": null,
   "metadata": {
    "id": "VK56tlxxeols"
   },
   "outputs": [],
   "source": [
    "class MyDiscriminatorConvLayer(torch.nn.Module):\n",
    "    def __init__(self, in_num, out_num):\n",
    "        super().__init__()\n",
    "        self.layer_1 = torch.nn.Conv2d(in_channels=in_num,  # チャンネル数を指定の値にして、解像度を半分にする\n",
    "                                       out_channels=out_num,\n",
    "                                       kernel_size=2,\n",
    "                                       stride=2,\n",
    "                                       padding=0)\n",
    "        self.layer_2 = torch.nn.BatchNorm2d(num_features=out_num)\n",
    "\n",
    "    def forward(self, in_data):\n",
    "        out_data_layer_1 = self.layer_1(in_data)\n",
    "        out_data_layer_2 = torch.nn.functional.leaky_relu(input=self.layer_2(out_data_layer_1),\n",
    "                                                          negative_slope=0.01)\n",
    "        return out_data_layer_2"
   ]
  },
  {
   "cell_type": "code",
   "execution_count": null,
   "metadata": {
    "id": "jan0a3DLn3HN"
   },
   "outputs": [],
   "source": [
    "class MyDiscriminator(torch.nn.Module):\n",
    "    def __init__(self, in_dim):\n",
    "        super().__init__()\n",
    "        self.layer_1 = MyDiscriminatorConvLayer(in_num=in_dim,\n",
    "                                                out_num=32)\n",
    "        self.layer_2 = MyDiscriminatorConvLayer(in_num=32,\n",
    "                                                out_num=64)\n",
    "        self.layer_3 = MyDiscriminatorConvLayer(in_num=64,\n",
    "                                                out_num=128)\n",
    "        self.layer_4 = MyDiscriminatorConvLayer(in_num=128,\n",
    "                                                out_num=256)\n",
    "        self.layer_5 = MyDiscriminatorConvLayer(in_num=256,\n",
    "                                                out_num=512)\n",
    "        self.layer_6 = torch.nn.Conv2d(in_channels=512,  # チャンネル数を指定の値にして、解像度はそのまま\n",
    "                                       out_channels=1,\n",
    "                                       kernel_size=1,\n",
    "                                       stride=1,\n",
    "                                       padding=0)\n",
    "\n",
    "    def forward(self, in_data):\n",
    "        # print(\"discriminator_in\", in_data.shape)  # (30, 3, 96, 96)\n",
    "        out_data_layer_1 = self.layer_1(in_data)\n",
    "        # print(\"discriminator_1\", out_data_layer_1.shape)  # (30, 32, 48, 48)\n",
    "        out_data_layer_2 = self.layer_2(out_data_layer_1)\n",
    "        # print(\"discriminator_2\", out_data_layer_2.shape)  # (30, 64, 24, 24)\n",
    "        out_data_layer_3 = self.layer_3(out_data_layer_2)\n",
    "        # print(\"discriminator_3\", out_data_layer_3.shape)  # (30, 128, 12, 12)\n",
    "        out_data_layer_4 = self.layer_4(out_data_layer_3)\n",
    "        # print(\"discriminator_4\", out_data_layer_4.shape)  # (30, 256, 6, 6)\n",
    "        out_data_layer_5 = self.layer_5(out_data_layer_4)\n",
    "        # print(\"discriminator_5\", out_data_layer_5.shape)  # (30, 512, 3, 3)\n",
    "        out_data_layer_6 = self.layer_6(out_data_layer_5)\n",
    "        # print(\"discriminator_6\", out_data_layer_6.shape)  # (30, 1, 3, 3)\n",
    "        return out_data_layer_6"
   ]
  },
  {
   "cell_type": "markdown",
   "metadata": {
    "id": "P3VxXh0zr5Fe"
   },
   "source": [
    "**モデル、損失関数、最適化アルゴリズム**"
   ]
  },
  {
   "cell_type": "code",
   "execution_count": null,
   "metadata": {
    "id": "hNYAHmcwr9Dv"
   },
   "outputs": [],
   "source": [
    "nn_model_G = MyGenerator(in_dim=3,\n",
    "                         z_dim=256,\n",
    "                         out_dim=3,\n",
    "                         size=96).to(device)  # GPUへ\n",
    "nn_model_D = MyDiscriminator(in_dim=3).to(device)  # GPUへ\n",
    "loss_BCE_for_GAN = torch.nn.BCEWithLogitsLoss()  # BinaryCrossEntropylossにSigmoidを組み合わせたもの # GAN向け\n",
    "coefficient = 100  # 損失値の計算の時にL1Lossに掛ける係数\n",
    "loss_MAE = torch.nn.L1Loss()  # MeanAbsoluteError\n",
    "loss_BCE_for_VAE = torch.nn.BCEWithLogitsLoss(reduction=\"sum\")  # BinaryCrossEntropylossにSigmoidを組み合わせたもの # VAE向け\n",
    "optimizer_G = torch.optim.Adam(params=nn_model_G.parameters(),\n",
    "                               lr=0.0001)  # 0.001ではGANのせいか3エポックで損失値がNaNになったので、学習率を下げて損失の発散を防ぐ\n",
    "optimizer_D = torch.optim.Adam(params=nn_model_D.parameters(),\n",
    "                               lr=0.0001)"
   ]
  },
  {
   "cell_type": "code",
   "execution_count": null,
   "metadata": {
    "colab": {
     "base_uri": "https://localhost:8080/"
    },
    "executionInfo": {
     "elapsed": 863,
     "status": "ok",
     "timestamp": 1707718574332,
     "user": {
      "displayName": "forML",
      "userId": "00184597541824520416"
     },
     "user_tz": -540
    },
    "id": "KTZ6PkeFtupY",
    "outputId": "af235316-de7d-42dc-d300-27c94677587e"
   },
   "outputs": [
    {
     "data": {
      "text/plain": [
       "==========================================================================================\n",
       "Layer (type:depth-idx)                   Output Shape              Param #\n",
       "==========================================================================================\n",
       "MyGenerator                              [50, 3, 96, 96]           --\n",
       "├─MyVAEEncoder: 1-1                      [50, 256]                 --\n",
       "│    └─MyVAEEncoderConvLayer: 2-1        [50, 32, 48, 48]          --\n",
       "│    │    └─Conv2d: 3-1                  [50, 32, 48, 48]          416\n",
       "│    │    └─BatchNorm2d: 3-2             [50, 32, 48, 48]          64\n",
       "│    └─MyVAEEncoderConvLayer: 2-2        [50, 64, 24, 24]          --\n",
       "│    │    └─Conv2d: 3-3                  [50, 64, 24, 24]          8,256\n",
       "│    │    └─BatchNorm2d: 3-4             [50, 64, 24, 24]          128\n",
       "│    └─MyVAEEncoderConvLayer: 2-3        [50, 128, 12, 12]         --\n",
       "│    │    └─Conv2d: 3-5                  [50, 128, 12, 12]         32,896\n",
       "│    │    └─BatchNorm2d: 3-6             [50, 128, 12, 12]         256\n",
       "│    └─MyVAEEncoderConvLayer: 2-4        [50, 256, 6, 6]           --\n",
       "│    │    └─Conv2d: 3-7                  [50, 256, 6, 6]           131,328\n",
       "│    │    └─BatchNorm2d: 3-8             [50, 256, 6, 6]           512\n",
       "│    └─MyVAEEncoderConvLayer: 2-5        [50, 512, 3, 3]           --\n",
       "│    │    └─Conv2d: 3-9                  [50, 512, 3, 3]           524,800\n",
       "│    │    └─BatchNorm2d: 3-10            [50, 512, 3, 3]           1,024\n",
       "│    └─Linear: 2-6                       [50, 256]                 1,179,904\n",
       "│    └─Linear: 2-7                       [50, 256]                 1,179,904\n",
       "├─MyVAEDecoder: 1-2                      [50, 3, 96, 96]           --\n",
       "│    └─Linear: 2-8                       [50, 4608]                1,184,256\n",
       "│    └─MyVAEDecoderUpConvLayer: 2-9      [50, 256, 6, 6]           --\n",
       "│    │    └─ConvTranspose2d: 3-11        [50, 256, 6, 6]           1,179,904\n",
       "│    │    └─BatchNorm2d: 3-12            [50, 256, 6, 6]           512\n",
       "│    └─MyVAEDecoderUpConvLayer: 2-10     [50, 128, 12, 12]         --\n",
       "│    │    └─ConvTranspose2d: 3-13        [50, 128, 12, 12]         295,040\n",
       "│    │    └─BatchNorm2d: 3-14            [50, 128, 12, 12]         256\n",
       "│    └─MyVAEDecoderUpConvLayer: 2-11     [50, 64, 24, 24]          --\n",
       "│    │    └─ConvTranspose2d: 3-15        [50, 64, 24, 24]          73,792\n",
       "│    │    └─BatchNorm2d: 3-16            [50, 64, 24, 24]          128\n",
       "│    └─MyVAEDecoderUpConvLayer: 2-12     [50, 32, 48, 48]          --\n",
       "│    │    └─ConvTranspose2d: 3-17        [50, 32, 48, 48]          18,464\n",
       "│    │    └─BatchNorm2d: 3-18            [50, 32, 48, 48]          64\n",
       "│    └─MyVAEDecoderUpConvLayer: 2-13     [50, 3, 96, 96]           --\n",
       "│    │    └─ConvTranspose2d: 3-19        [50, 3, 96, 96]           867\n",
       "│    │    └─BatchNorm2d: 3-20            [50, 3, 96, 96]           6\n",
       "│    └─Conv2d: 2-14                      [50, 3, 96, 96]           84\n",
       "==========================================================================================\n",
       "Total params: 5,812,861\n",
       "Trainable params: 5,812,861\n",
       "Non-trainable params: 0\n",
       "Total mult-adds (G): 10.11\n",
       "==========================================================================================\n",
       "Input size (MB): 5.53\n",
       "Forward/backward pass size (MB): 260.10\n",
       "Params size (MB): 23.25\n",
       "Estimated Total Size (MB): 288.88\n",
       "=========================================================================================="
      ]
     },
     "execution_count": 19,
     "metadata": {},
     "output_type": "execute_result"
    }
   ],
   "source": [
    "torchinfo.summary(model=nn_model_G,\n",
    "                  input_size=(50, 3, 96, 96),\n",
    "                  depth=5)"
   ]
  },
  {
   "cell_type": "code",
   "execution_count": null,
   "metadata": {
    "colab": {
     "base_uri": "https://localhost:8080/"
    },
    "executionInfo": {
     "elapsed": 747,
     "status": "ok",
     "timestamp": 1707718578559,
     "user": {
      "displayName": "forML",
      "userId": "00184597541824520416"
     },
     "user_tz": -540
    },
    "id": "ch01A_PFt1F-",
    "outputId": "3c988ca8-1da1-4b83-8b52-cacae5fc5e7f"
   },
   "outputs": [
    {
     "data": {
      "text/plain": [
       "==========================================================================================\n",
       "Layer (type:depth-idx)                   Output Shape              Param #\n",
       "==========================================================================================\n",
       "MyDiscriminator                          [50, 1, 3, 3]             --\n",
       "├─MyDiscriminatorConvLayer: 1-1          [50, 32, 48, 48]          --\n",
       "│    └─Conv2d: 2-1                       [50, 32, 48, 48]          416\n",
       "│    └─BatchNorm2d: 2-2                  [50, 32, 48, 48]          64\n",
       "├─MyDiscriminatorConvLayer: 1-2          [50, 64, 24, 24]          --\n",
       "│    └─Conv2d: 2-3                       [50, 64, 24, 24]          8,256\n",
       "│    └─BatchNorm2d: 2-4                  [50, 64, 24, 24]          128\n",
       "├─MyDiscriminatorConvLayer: 1-3          [50, 128, 12, 12]         --\n",
       "│    └─Conv2d: 2-5                       [50, 128, 12, 12]         32,896\n",
       "│    └─BatchNorm2d: 2-6                  [50, 128, 12, 12]         256\n",
       "├─MyDiscriminatorConvLayer: 1-4          [50, 256, 6, 6]           --\n",
       "│    └─Conv2d: 2-7                       [50, 256, 6, 6]           131,328\n",
       "│    └─BatchNorm2d: 2-8                  [50, 256, 6, 6]           512\n",
       "├─MyDiscriminatorConvLayer: 1-5          [50, 512, 3, 3]           --\n",
       "│    └─Conv2d: 2-9                       [50, 512, 3, 3]           524,800\n",
       "│    └─BatchNorm2d: 2-10                 [50, 512, 3, 3]           1,024\n",
       "├─Conv2d: 1-6                            [50, 1, 3, 3]             513\n",
       "==========================================================================================\n",
       "Total params: 700,193\n",
       "Trainable params: 700,193\n",
       "Non-trainable params: 0\n",
       "Total mult-adds (M): 995.43\n",
       "==========================================================================================\n",
       "Input size (MB): 5.53\n",
       "Forward/backward pass size (MB): 114.28\n",
       "Params size (MB): 2.80\n",
       "Estimated Total Size (MB): 122.61\n",
       "=========================================================================================="
      ]
     },
     "execution_count": 20,
     "metadata": {},
     "output_type": "execute_result"
    }
   ],
   "source": [
    "torchinfo.summary(model=nn_model_D,\n",
    "                  input_size=(50, 3, 96, 96),\n",
    "                  depth=5)"
   ]
  },
  {
   "cell_type": "markdown",
   "metadata": {
    "id": "wIIfexk0x8bG"
   },
   "source": [
    "**学習**"
   ]
  },
  {
   "cell_type": "code",
   "execution_count": null,
   "metadata": {
    "id": "M2t3FPJfhfoQ"
   },
   "outputs": [],
   "source": [
    "FOLDER_NAME = \"./GAN_VAE\""
   ]
  },
  {
   "cell_type": "code",
   "execution_count": null,
   "metadata": {
    "colab": {
     "base_uri": "https://localhost:8080/",
     "height": 49,
     "referenced_widgets": [
      "020701a0d55743f39b2df27c48b819a4",
      "66b5141be4a2425db69752a029193e5e",
      "3e9339441ca2458dbe8166435b4d9e6a",
      "a3bbbee3bbb6489a8c8b978b404bca89",
      "7a984dbf2acf42939169d4f3c387ee7c",
      "fba9bd3290f7496799d56b7907b46141",
      "a6b5902159004999816183110a468c51",
      "eb6ed34cb7dd4de38fb2f93e8ba25d2f",
      "f68610e4c3764d459063e62313b01e18",
      "900ae35ab57f408eba7fbfb6ec298079",
      "589fdfd22e774567a81cac0f6c941e43"
     ]
    },
    "executionInfo": {
     "elapsed": 3336778,
     "status": "ok",
     "timestamp": 1707725024989,
     "user": {
      "displayName": "forML",
      "userId": "00184597541824520416"
     },
     "user_tz": -540
    },
    "id": "oGaH1tT9xJTo",
    "outputId": "28dec51d-21bb-4cd2-b3e1-029853dd91a7"
   },
   "outputs": [],
   "source": [
    "if os.path.isfile(path=\"{a}/epoch_train_loss_G_total_list.pkl\".format(a=FOLDER_NAME)):\n",
    "    with open(file=\"{a}/epoch_train_loss_G_total_list.pkl\".format(a=FOLDER_NAME), mode=\"rb\") as f:\n",
    "        epoch_train_loss_G_total_list = pickle.load(file=f)\n",
    "else:\n",
    "    epoch_train_loss_G_total_list = []\n",
    "if os.path.isfile(path=\"{a}/epoch_train_loss_D_total_list.pkl\".format(a=FOLDER_NAME)):\n",
    "    with open(file=\"{a}/epoch_train_loss_D_total_list.pkl\".format(a=FOLDER_NAME), mode=\"rb\") as f:\n",
    "        epoch_train_loss_D_total_list = pickle.load(file=f)\n",
    "else:\n",
    "    epoch_train_loss_D_total_list = []\n",
    "if os.path.isfile(path=\"{a}/epoch_train_z_vector_dict.pkl\".format(a=FOLDER_NAME)):\n",
    "    with open(file=\"{a}/epoch_train_z_vector_dict.pkl\".format(a=FOLDER_NAME), mode=\"rb\") as f:\n",
    "        epoch_train_z_vector_dict = pickle.load(file=f)\n",
    "else:\n",
    "    epoch_train_z_vector_dict = {\"face\": []}\n",
    "if os.path.isfile(path=\"{a}/FineTuning_GAN_VAE_G.model\".format(a=FOLDER_NAME)):\n",
    "    nn_model_G.load_state_dict(state_dict=torch.load(f=\"{a}/FineTuning_GAN_VAE_G.model\".format(a=FOLDER_NAME)))\n",
    "if os.path.isfile(path=\"{a}/FineTuning_GAN_VAE_D.model\".format(a=FOLDER_NAME)):\n",
    "    nn_model_D.load_state_dict(state_dict=torch.load(f=\"{a}/FineTuning_GAN_VAE_D.model\".format(a=FOLDER_NAME)))\n",
    "for epoch in tqdm(range(5000)):\n",
    "    train_loss_G_total = 0\n",
    "    train_loss_D_total = 0\n",
    "    train_z_vector_list = []\n",
    "    nn_model_G.train()\n",
    "    nn_model_D.train()\n",
    "    for train_input_tensor_minibatch in train_dataset_dataloader:\n",
    "        train_input_tensor_minibatch = train_input_tensor_minibatch.to(device)  # GPUへ\n",
    "        output_G, z, mu, sigma = nn_model_G(in_data=train_input_tensor_minibatch)  # 訓練データを入力にして、Gから出力\n",
    "        output_G_copy = output_G.clone()  # G出力をコピー(Gの損失値の算出で使うため)\n",
    "        output_G_image_detach = torch.sigmoid(output_G.clone()).detach()  # G出力のsigmoidの微分無し(D入力の画像データとして使うため)\n",
    "        train_z_vector_list.append(z.detach().cpu().numpy())\n",
    "        output_D_by_G = nn_model_D(in_data=output_G)  # G結果を入力にして、Dから出力\n",
    "        true_label_for_D = torch.ones(size=output_D_by_G.shape).to(device)  # D正解ラベル(3×3のTrue行列) # GPUへ\n",
    "        false_label_for_D = torch.zeros(size=output_D_by_G.shape).to(device)  # D外れラベル(3×3のFalse行列) # GPUへ\n",
    "        # ↓ここからGの学習↓\n",
    "        loss_G1 = loss_BCE_for_GAN(output_D_by_G,  # Gの損失値1(GAN版) # D出力(G結果入力)とD正解の正誤分類(GとしてはD正解に近づけたい)\n",
    "                                   true_label_for_D)\n",
    "        loss_G2 = loss_MAE(output_G,  # Gの損失値2(GAN版) # G出力(正解画像入力)と正解画像のピクセル回帰(Gとしては正解画像に近づけたい)\n",
    "                           train_input_tensor_minibatch)\n",
    "        loss_G3 = loss_BCE_for_VAE(output_G_copy,  # Gの損失値3(VAE版) # G出力(正解画像入力)と正解画像のピクセル分類\n",
    "                                   train_input_tensor_minibatch)\n",
    "        loss_G4 = -0.5 * torch.sum(1 + sigma - mu**2 - sigma.exp())  # Gの損失値4(VAE版)  # VAE損失関数の正則化項\n",
    "        loss_G = loss_G1 + (coefficient * loss_G2) + loss_G3 + loss_G4  # Gの損失値\n",
    "        optimizer_G.zero_grad()\n",
    "        loss_G.backward()\n",
    "        optimizer_G.step()\n",
    "        train_loss_G_total = train_loss_G_total + loss_G.item()\n",
    "        # ↑ここまでGの学習↑\n",
    "        output_D = nn_model_D(in_data=train_input_tensor_minibatch)  # 訓練データを入力にして、Dから出力\n",
    "        output_D_by_G_image = nn_model_D(in_data=output_G_image_detach)  # G出力画像データを入力にして、Dから出力\n",
    "        # ↓ここからDの学習\n",
    "        loss_D1 = loss_BCE_for_GAN(output_D,  # Dの損失値1 # D出力(正解画像入力)とD正解の正誤分類(DとしてはD正解に近づけたい)\n",
    "                                   true_label_for_D)\n",
    "        loss_D2 = loss_BCE_for_GAN(output_D_by_G_image,  # Dの損失値2 # D出力(G結果入力)とD外れの正誤分類(DとしてはD外れに近づけたい)\n",
    "                                   false_label_for_D)\n",
    "        loss_D = loss_D1 + loss_D2  # Dの損失値\n",
    "        optimizer_D.zero_grad()\n",
    "        loss_D.backward()\n",
    "        optimizer_D.step()\n",
    "        train_loss_D_total = train_loss_D_total + loss_D.item()\n",
    "        # ↑ここまでDの学習↑\n",
    "    epoch_train_loss_G_total_list.append(train_loss_G_total)\n",
    "    with open(file=\"{a}/epoch_train_loss_G_total_list.pkl\".format(a=FOLDER_NAME), mode=\"wb\") as f:\n",
    "        pickle.dump(obj=epoch_train_loss_G_total_list,\n",
    "                    file=f)\n",
    "    epoch_train_loss_D_total_list.append(train_loss_D_total)\n",
    "    with open(file=\"{a}/epoch_train_loss_D_total_list.pkl\".format(a=FOLDER_NAME), mode=\"wb\") as f:\n",
    "        pickle.dump(obj=epoch_train_loss_D_total_list,\n",
    "                    file=f)\n",
    "    epoch_train_z_vector = np.concatenate(train_z_vector_list,\n",
    "                                          axis=0)\n",
    "    epoch_train_z_vector_dict[\"face\"].append(epoch_train_z_vector)\n",
    "    with open(file=\"{a}/epoch_train_z_vector_dict.pkl\".format(a=FOLDER_NAME), mode=\"wb\") as f:\n",
    "        pickle.dump(obj=epoch_train_z_vector_dict,\n",
    "                    file=f)\n",
    "    torch.save(obj=nn_model_G.state_dict(),\n",
    "               f=\"{a}/FineTuning_GAN_VAE_G.model\".format(a=FOLDER_NAME))\n",
    "    torch.save(obj=nn_model_D.state_dict(),\n",
    "               f=\"{a}/FineTuning_GAN_VAE_D.model\".format(a=FOLDER_NAME))"
   ]
  },
  {
   "cell_type": "markdown",
   "metadata": {
    "id": "PFsn_CxxMSSI"
   },
   "source": [
    "**損失値の推移をグラフ化**"
   ]
  },
  {
   "cell_type": "code",
   "execution_count": null,
   "metadata": {
    "id": "Z6GRBMx7Jrqn"
   },
   "outputs": [],
   "source": [
    "with open(file=\"{a}/epoch_train_loss_G_total_list.pkl\".format(a=FOLDER_NAME), mode=\"rb\") as f:\n",
    "    epoch_train_loss_G_total_list = pickle.load(file=f)\n",
    "with open(file=\"{a}/epoch_train_loss_D_total_list.pkl\".format(a=FOLDER_NAME), mode=\"rb\") as f:\n",
    "    epoch_train_loss_D_total_list = pickle.load(file=f)"
   ]
  },
  {
   "cell_type": "code",
   "execution_count": null,
   "metadata": {
    "id": "HS2i6HCbMT_I"
   },
   "outputs": [],
   "source": [
    "x_datas = np.arange(1, len(epoch_train_loss_G_total_list)+1, 1)\n",
    "y_datas_list = [epoch_train_loss_G_total_list,\n",
    "                epoch_train_loss_D_total_list]\n",
    "labels = [\"Generator\",\n",
    "          \"Discriminator\"]\n",
    "colors = list(matplotlib.colors.CSS4_COLORS.values())\n",
    "random.shuffle(colors)\n",
    "label2color = colors[:len(labels)]"
   ]
  },
  {
   "cell_type": "code",
   "execution_count": null,
   "metadata": {
    "colab": {
     "base_uri": "https://localhost:8080/",
     "height": 1000
    },
    "executionInfo": {
     "elapsed": 1220,
     "status": "ok",
     "timestamp": 1707725067216,
     "user": {
      "displayName": "forML",
      "userId": "00184597541824520416"
     },
     "user_tz": -540
    },
    "id": "dACVkDfyNAUX",
    "outputId": "15c79e3d-cd96-441e-d1f1-8905a70b2543"
   },
   "outputs": [
    {
     "data": {
      "image/png": "[encoded data removed]",
      "text/plain": [
       "<Figure size 1600x2000 with 1 Axes>"
      ]
     },
     "metadata": {},
     "output_type": "display_data"
    }
   ],
   "source": [
    "fig, axes1 = plt.subplots(nrows=1,\n",
    "                          ncols=1,\n",
    "                          figsize=(16, 20))\n",
    "for i, y_datas in enumerate(y_datas_list):\n",
    "    axes1.plot(x_datas,\n",
    "               y_datas,\n",
    "               label=labels[i],\n",
    "               c=label2color[i],\n",
    "               marker=\"o\",\n",
    "               markersize=3,\n",
    "               linestyle=\"solid\",\n",
    "               linewidth=1)\n",
    "    # for j in range(len(y_datas)):\n",
    "    #     axes1.annotate(text=round(y_datas[j], 3),\n",
    "    #                    xy=(x_datas[j], y_datas[j]))\n",
    "axes1.legend()\n",
    "axes1.set_title(\"plot in total loss value every epoch\")\n",
    "axes1.set_xlabel(\"number of epoch\")\n",
    "axes1.set_ylabel(\"total loss value\")\n",
    "# axes1.set_xticks(ticks=x_datas)\n",
    "axes1.grid(True)\n",
    "plt.show()"
   ]
  },
  {
   "cell_type": "markdown",
   "metadata": {
    "id": "m0PHItGeT1KN"
   },
   "source": [
    "**最新epoch学習時の潜在変数を使って画像を生成**"
   ]
  },
  {
   "cell_type": "code",
   "execution_count": null,
   "metadata": {
    "id": "GIRfhxLGO5OW"
   },
   "outputs": [],
   "source": [
    "# 画像生成を行うためのDecoder入力データを作成\n",
    "newest_z_vector = epoch_train_z_vector_dict[\"face\"][-1]\n",
    "input_decoder_z_vector_list = []\n",
    "for i in range(100):\n",
    "    random_vector = np.random.rand(newest_z_vector.shape[0])\n",
    "    sum_random_value = np.sum(random_vector)\n",
    "    random_ratio_vector = random_vector / sum_random_value\n",
    "    input_decoder_z_vector = np.average(a=newest_z_vector,\n",
    "                                        axis=0,\n",
    "                                        weights=random_ratio_vector).reshape(1, -1)\n",
    "    input_decoder_z_vector_list.append(input_decoder_z_vector)\n",
    "in_data_for_decoder = np.concatenate(input_decoder_z_vector_list,\n",
    "                                     axis=0)"
   ]
  },
  {
   "cell_type": "code",
   "execution_count": null,
   "metadata": {
    "colab": {
     "base_uri": "https://localhost:8080/",
     "height": 1000,
     "output_embedded_package_id": "1EBU8SclGJlKePoxqo2bRcf3-4WnXQnRj"
    },
    "executionInfo": {
     "elapsed": 21756,
     "status": "ok",
     "timestamp": 1707725100665,
     "user": {
      "displayName": "forML",
      "userId": "00184597541824520416"
     },
     "user_tz": -540
    },
    "id": "fOkQd4l2Vp1Q",
    "outputId": "6256b16e-af9e-4d53-a771-142d43553823"
   },
   "outputs": [],
   "source": [
    "# 作成したDecoder入力データを、VAEモデルのDecoderのインプットにして画像生成\n",
    "if os.path.isfile(path=\"{a}/FineTuning_GAN_VAE_G.model\".format(a=FOLDER_NAME)):\n",
    "    nn_model_G.load_state_dict(state_dict=torch.load(f=\"{a}/FineTuning_GAN_VAE_G.model\".format(a=FOLDER_NAME)))\n",
    "nn_model_G.eval()\n",
    "predict_image_vector_list = []\n",
    "with torch.no_grad():\n",
    "    in_tensor_data_for_decoder = torch.FloatTensor(in_data_for_decoder).to(device)\n",
    "    predict = nn_model_G.generate_image(in_tensor_data=in_tensor_data_for_decoder)\n",
    "    predict_array = predict.detach().cpu().numpy()\n",
    "    predict_array_for_PIL = predict_array.transpose(0, 2, 3, 1)\n",
    "    predict_denormalized_array_for_PIL = (predict_array_for_PIL * 255).astype(dtype=np.uint8)\n",
    "    for i in range(predict_denormalized_array_for_PIL.shape[0]):\n",
    "        # r = predict_denormalized_array_for_PIL[i][:, :, 0]\n",
    "        # print(r.shape)  # (96, 96)\n",
    "        # g = predict_denormalized_array_for_PIL[i][:, :, 1]\n",
    "        # print(g.shape)  # (96, 96)\n",
    "        # b = predict_denormalized_array_for_PIL[i][:, :, 2]\n",
    "        # print(b.shape)  # (96, 96)\n",
    "        # rgb = np.dstack([b, g, r])\n",
    "        # print(rgb.shape)  # (96, 96, 3)\n",
    "        # predict_image_vector_list.append(rgb)\n",
    "        predict_image_vector_list.append(predict_denormalized_array_for_PIL[i])\n",
    "fig = plt.figure(figsize=(16, 16))\n",
    "for j in range(len(predict_image_vector_list)):\n",
    "    fig.add_subplot(10, 10, j+1)\n",
    "    plt.imshow(predict_image_vector_list[j])\n",
    "    plt.axis(\"off\")\n",
    "plt.subplots_adjust(wspace=0,\n",
    "                    hspace=0)\n",
    "plt.show()"
   ]
  }
 ],
 "metadata": {
  "colab": {
   "authorship_tag": "ABX9TyNkH9vYP6Sd/5W6mnQUqQ++",
   "provenance": []
  },
  "kernelspec": {
   "display_name": "Python 3 (ipykernel)",
   "language": "python",
   "name": "python3"
  },
  "language_info": {
   "codemirror_mode": {
    "name": "ipython",
    "version": 3
   },
   "file_extension": ".py",
   "mimetype": "text/x-python",
   "name": "python",
   "nbconvert_exporter": "python",
   "pygments_lexer": "ipython3",
   "version": "3.11.5"
  }
 },
 "nbformat": 4,
 "nbformat_minor": 4
}
