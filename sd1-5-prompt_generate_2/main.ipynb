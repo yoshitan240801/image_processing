{
 "cells": [
  {
   "cell_type": "code",
   "execution_count": null,
   "metadata": {},
   "outputs": [],
   "source": [
    "from google.colab import userdata\n",
    "import huggingface_hub"
   ]
  },
  {
   "cell_type": "code",
   "execution_count": null,
   "metadata": {},
   "outputs": [],
   "source": [
    "HuggingFace_API_KEY = userdata.get(\"HuggingFace_API_KEY\")\n",
    "huggingface_hub.login(token=HuggingFace_API_KEY)  # HuggingFaceにログイン"
   ]
  },
  {
   "cell_type": "markdown",
   "metadata": {},
   "source": [
    "### webUI形式をダウンロードした後にdiffusers形式に変換する"
   ]
  },
  {
   "cell_type": "code",
   "execution_count": null,
   "metadata": {},
   "outputs": [],
   "source": [
    "# Counterfeit-V3.0のWebUI形式のsafetensorsファイルをwgetコマンドでダウンロード\n",
    "!wget -P \"./webUI_model\" https://huggingface.co/gsdf/Counterfeit-V3.0/resolve/main/Counterfeit-V3.0_fp16.safetensors?download=true\n",
    "# OrangeMixsのWebUI形式のsafetensorsファイルをwgetコマンドでダウンロード\n",
    "!wget -P \"./webUI_model\" https://huggingface.co/WarriorMama777/OrangeMixs/resolve/main/Models/AbyssOrangeMix3/AOM3A1B_orangemixs.safetensors?download=true\n",
    "# WebUI形式のCouterfeit-V3.0のsafetensorsファイルを、diffusers形式のファイルに変換\n",
    "!python convert_original_stable_diffusion_to_diffusers.py --original_config_file v1-inference.yaml --checkpoint_path webUI_model/Counterfeit-V3.0_fp16.safetensors --image_size 512 --prediction_type epsilon --extract_ema  --upcast_attention  --dump_path diffusers_model/Counterfeit-V3.0 --from_safetensors  --device cpu\n",
    "# WebUI形式のOrangeMixsのsafetensorsファイルを、diffusers形式のファイルに変換\n",
    "!python convert_original_stable_diffusion_to_diffusers.py --original_config_file v1-inference.yaml --checkpoint_path webUI_model/AOM3A1B_orangemixs.safetensors --image_size 512 --prediction_type epsilon --extract_ema  --upcast_attention  --dump_path diffusers_model/AOM3A1B_orangemixs --from_safetensors  --device cpu\n",
    "# WebUI形式のOrangeMixsのVAEのptファイルをダウンロード\n",
    "!wget -P \"./webUI_model\" https://huggingface.co/WarriorMama777/OrangeMixs/resolve/main/VAEs/orangemix.vae.pt?download=true\n",
    "# WebUI形式のOrangeMixsのVAEのptファイルを、diffusers形式のVAEファイルに変換\n",
    "!python convert_vae_pt_to_diffusers.py --vae_pt_path webUI_model/orangemixs.vae.pt --dump_path diffusers_model/orangemixs.vae"
   ]
  },
  {
   "cell_type": "code",
   "execution_count": null,
   "metadata": {
    "id": "2MyEIg_daIyE"
   },
   "outputs": [],
   "source": [
    "from datetime import datetime\n",
    "import matplotlib.pyplot as plt\n",
    "import PIL\n",
    "import IPython\n",
    "import torch\n",
    "import torchvision\n",
    "import diffusers"
   ]
  },
  {
   "cell_type": "code",
   "execution_count": null,
   "metadata": {
    "id": "0wfzohe3-9yC"
   },
   "outputs": [],
   "source": [
    "DEVICE = torch.device(\"cuda:0\" if torch.cuda.is_available() else \"cpu\")\n",
    "MODEL_counterfeit = \"./diffusers_model/Counterfeit-V3.0\"\n",
    "MODEL_orangemix = \"./diffusers_model/AOM3A1B_orangemixs\""
   ]
  },
  {
   "cell_type": "code",
   "execution_count": null,
   "metadata": {
    "id": "jhdIhzyIAUiQ"
   },
   "outputs": [],
   "source": [
    "merge_model_pipe = diffusers.StableDiffusionPipeline.from_pretrained(pretrained_model_name_or_path=MODEL_counterfeit,\n",
    "                                                                     torch_dtype=torch.float16)\n",
    "pipe_2 = diffusers.StableDiffusionPipeline.from_pretrained(pretrained_model_name_or_path=MODEL_orangemix,\n",
    "                                                           torch_dtype=torch.float16)"
   ]
  },
  {
   "cell_type": "markdown",
   "metadata": {},
   "source": [
    "### U-Net部分をマージする"
   ]
  },
  {
   "cell_type": "code",
   "execution_count": null,
   "metadata": {
    "id": "2u3GAqbGRDJ0"
   },
   "outputs": [],
   "source": [
    "# print(merge_model_pipe.unet)  # CounterfeitモデルのU-Net構造を表示\n",
    "counterfeit_model_unet_param = dict(merge_model_pipe.unet.named_parameters())  # CounterfeitモデルのU-Netのパラメータ名と値を辞書型で取得\n",
    "# print(counterfeit_model_unet_param.keys())\n",
    "# print(counterfeit_model_unet_param.values())\n",
    "# print(pipe_2.unet)  # OrangemixモデルのU-Net構造を表示\n",
    "orangemix_model_unet_param = dict(pipe_2.unet.named_parameters())  # OrangemixモデルのU-Netのパラメータ名と値を辞書型で取得\n",
    "# print(orangemix_model_unet_param.keys())\n",
    "# print(orangemix_model_unet_param.values())\n",
    "# それぞれのモデルのU-Netのパラメータ値の平均を、マージモデルのU-Netのパラメータ値として保存\n",
    "for key, value in merge_model_pipe.unet.named_parameters():\n",
    "    value.data = 0.25 * counterfeit_model_unet_param[key] + 0.75 * orangemix_model_unet_param[key]"
   ]
  },
  {
   "cell_type": "markdown",
   "metadata": {},
   "source": [
    "### TextEncoder部分をマージする"
   ]
  },
  {
   "cell_type": "code",
   "execution_count": null,
   "metadata": {
    "id": "5orh-7FxWbT5"
   },
   "outputs": [],
   "source": [
    "# print(merge_model_pipe.text_encoder)  # CounterfeitモデルのTextEncoder構造を表示\n",
    "counterfeit_model_textencoder_param = dict(merge_model_pipe.text_encoder.named_parameters())  # CounterfeitモデルのTextEncoderのパラメータ名と値を辞書型で取得\n",
    "# print(counterfeit_model_textencoder_param.keys())\n",
    "# print(counterfeit_model_textencoder_param.values())\n",
    "# print(pipe_2.text_encoder)  # OrangemixモデルのTextEncoder構造を表示\n",
    "orangemix_model_textencoder_param = dict(pipe_2.text_encoder.named_parameters())  # OrangemixモデルのTextEncoderのパラメータ名と値を辞書型で取得\n",
    "# print(orangemix_model_textencoder_param.keys())\n",
    "# print(orangemix_model_textencoder_param.values())\n",
    "# それぞれのモデルのTextEncoderのパラメータ値の平均を、マージモデルのTextEncoderのパラメータ値として保存\n",
    "for key, value in merge_model_pipe.text_encoder.named_parameters():\n",
    "    value.data = 0.25 * counterfeit_model_textencoder_param[key] + 0.75 * orangemix_model_textencoder_param[key]"
   ]
  },
  {
   "cell_type": "markdown",
   "metadata": {},
   "source": [
    "### VAE部分をマージする"
   ]
  },
  {
   "cell_type": "code",
   "execution_count": null,
   "metadata": {
    "id": "51rUOH1PXKAN"
   },
   "outputs": [],
   "source": [
    "# print(merge_model_pipe.vae)  # CounterfeitモデルのVAE構造を表示\n",
    "counterfeit_model_vae_param = dict(merge_model_pipe.vae.named_parameters())  # CounterfeitモデルのVAEのパラメータ名と値を辞書型で取得\n",
    "# print(counterfeit_model_vae_param.keys())\n",
    "# print(counterfeit_model_vae_param.values())\n",
    "# print(pipe_2.vae)  # OrangemixモデルのVAE構造を表示\n",
    "orangemix_model_vae_param = dict(pipe_2.vae.named_parameters())  # OrangemixモデルのVAEのパラメータ名と値を辞書型で取得\n",
    "# print(orangemix_model_vae_param.keys())\n",
    "# print(orangemix_model_vae_param.values())\n",
    "# それぞれのモデルのVAEのパラメータ値の平均を、マージモデルのTextEncoderのパラメータ値として保存\n",
    "for key, value in merge_model_pipe.vae.named_parameters():\n",
    "    value.data = 0.95 * counterfeit_model_vae_param[key] + 0.05 * orangemix_model_vae_param[key]\n",
    "# ⇒OrangemixのVAE割合を多くすると生成画像がグレースケールになる"
   ]
  },
  {
   "cell_type": "code",
   "execution_count": null,
   "metadata": {
    "id": "aHnDhq5gi-qp"
   },
   "outputs": [],
   "source": [
    "merge_model_pipe.scheduler = diffusers.UniPCMultistepScheduler.from_config(merge_model_pipe.scheduler.config)"
   ]
  },
  {
   "cell_type": "markdown",
   "metadata": {},
   "source": [
    "### マージモデルをdiffusers形式のファイルとして保存する"
   ]
  },
  {
   "cell_type": "code",
   "execution_count": null,
   "metadata": {
    "id": "pnmRW93CeiW4"
   },
   "outputs": [],
   "source": [
    "merge_model_pipe.save_pretrained(save_directory=\"./diffusers_model/Counterfeit-V3.0_merge_AOM3A1B_orangemixs\")"
   ]
  },
  {
   "cell_type": "markdown",
   "metadata": {},
   "source": [
    "### 画像生成を行う"
   ]
  },
  {
   "cell_type": "code",
   "execution_count": null,
   "metadata": {
    "id": "j7Kbj9jon3No"
   },
   "outputs": [],
   "source": [
    "# NSFW検出で黒画像にしてしまうsafety_checkerの関数をダミー関数に書き換える\n",
    "merge_model_pipe.safety_checker = lambda images, **kwargs: (images, None)"
   ]
  },
  {
   "cell_type": "code",
   "execution_count": null,
   "metadata": {
    "id": "p2bl8rURn_lz"
   },
   "outputs": [],
   "source": [
    "merge_model_pipe.enable_vae_tiling()\n",
    "merge_model_pipe.to(DEVICE)"
   ]
  },
  {
   "cell_type": "code",
   "execution_count": null,
   "metadata": {
    "id": "4MQ4-n48EsVa"
   },
   "outputs": [],
   "source": [
    "output = merge_model_pipe(prompt=\"masterpiece, 1girl, brown eyes, black long hair, smile, looking at viewer, simple shirt, simple background, upper body, best quality, extremely detailed\",\n",
    "                          height=512,\n",
    "                          width=512,\n",
    "                          num_inference_steps=20,\n",
    "                          timesteps=None,\n",
    "                          sigmas=None,\n",
    "                          guidance_scale=7.0,\n",
    "                          negative_prompt=\"longbody, lowres, bad anatomy, bad hands, missing fingers, extra digit, fewer digits, cropped, worst quality, low quality\",\n",
    "                          num_images_per_prompt=10,\n",
    "                          generator=torch.Generator().manual_seed(1234),\n",
    "                          output_type=\"pil\",\n",
    "                          clip_skip=None)"
   ]
  },
  {
   "cell_type": "code",
   "execution_count": null,
   "metadata": {
    "colab": {
     "background_save": true
    },
    "id": "IlsvyCdWQwBS"
   },
   "outputs": [],
   "source": [
    "print(type(output.images))\n",
    "fig = plt.figure(figsize=(10, 5))\n",
    "for i in range(len(output.images)):\n",
    "    fig.add_subplot(2, 5, i+1)\n",
    "    plt.imshow(output.images[i])\n",
    "    plt.title(i)\n",
    "    plt.axis(\"off\")\n",
    "plt.subplots_adjust(wspace=0, hspace=0.25)\n",
    "plt.show()\n",
    "for j in range(len(output.images)):\n",
    "    print(type(output.images[j]))\n",
    "    IPython.display.display(output.images[j])\n",
    "    # ファイルとして保存する場合\n",
    "    now = datetime.now()\n",
    "    now_timestamp = str(now.year) + str(now.month) + str(now.day) + str(now.hour) + str(now.minute)\n",
    "    output.images[j].save(\"./Counterfeit3-0_OrangeMixs/{a}_{b}.jpeg\".format(a=now_timestamp, b=j),\n",
    "                          \"JPEG\",\n",
    "                          quality=95)"
   ]
  }
 ],
 "metadata": {
  "colab": {
   "authorship_tag": "ABX9TyM/nFB6DgV7KKUOPhA3FNRa",
   "provenance": []
  },
  "kernelspec": {
   "display_name": "Python 3 (ipykernel)",
   "language": "python",
   "name": "python3"
  },
  "language_info": {
   "codemirror_mode": {
    "name": "ipython",
    "version": 3
   },
   "file_extension": ".py",
   "mimetype": "text/x-python",
   "name": "python",
   "nbconvert_exporter": "python",
   "pygments_lexer": "ipython3",
   "version": "3.13.7"
  }
 },
 "nbformat": 4,
 "nbformat_minor": 4
}
