{
 "cells": [
  {
   "cell_type": "code",
   "execution_count": null,
   "metadata": {},
   "outputs": [],
   "source": [
    "from google.colab import userdata\n",
    "import huggingface_hub"
   ]
  },
  {
   "cell_type": "code",
   "execution_count": null,
   "metadata": {},
   "outputs": [],
   "source": [
    "HuggingFace_API_KEY = userdata.get(\"HuggingFace_API_KEY\")\n",
    "huggingface_hub.login(token=HuggingFace_API_KEY)  # HuggingFaceにログイン"
   ]
  },
  {
   "cell_type": "markdown",
   "metadata": {},
   "source": [
    "### webUI形式をダウンロードした後にdiffusers形式に変換する"
   ]
  },
  {
   "cell_type": "code",
   "execution_count": null,
   "metadata": {},
   "outputs": [],
   "source": [
    "# Counterfeit-V3.0のWebUI形式のsafetensorsファイルをwgetコマンドでダウンロード\n",
    "!wget -P \"./webUI_model\" https://huggingface.co/gsdf/Counterfeit-V3.0/resolve/main/Counterfeit-V3.0_fp16.safetensors?download=true\n",
    "# OrangeMixsのWebUI形式のsafetensorsファイルをwgetコマンドでダウンロード\n",
    "!wget -P \"./webUI_model\" https://huggingface.co/WarriorMama777/OrangeMixs/resolve/main/Models/AbyssOrangeMix3/AOM3A1B_orangemixs.safetensors?download=true\n",
    "# WebUI形式のCouterfeit-V3.0のsafetensorsファイルを、diffusers形式のファイルに変換\n",
    "!python convert_original_stable_diffusion_to_diffusers.py --original_config_file v1-inference.yaml --checkpoint_path webUI_model/Counterfeit-V3.0_fp16.safetensors --image_size 512 --prediction_type epsilon --extract_ema  --upcast_attention  --dump_path diffusers_model/Counterfeit-V3.0 --from_safetensors  --device cpu\n",
    "# WebUI形式のOrangeMixsのsafetensorsファイルを、diffusers形式のファイルに変換\n",
    "!python convert_original_stable_diffusion_to_diffusers.py --original_config_file v1-inference.yaml --checkpoint_path webUI_model/AOM3A1B_orangemixs.safetensors --image_size 512 --prediction_type epsilon --extract_ema  --upcast_attention  --dump_path diffusers_model/AOM3A1B_orangemixs --from_safetensors  --device cpu\n",
    "# WebUI形式のOrangeMixsのVAEのptファイルをダウンロード\n",
    "!wget -P \"./webUI_model\" https://huggingface.co/WarriorMama777/OrangeMixs/resolve/main/VAEs/orangemix.vae.pt?download=true\n",
    "# WebUI形式のOrangeMixsのVAEのptファイルを、diffusers形式のVAEファイルに変換\n",
    "!python convert_vae_pt_to_diffusers.py --vae_pt_path webUI_model/orangemixs.vae.pt --dump_path diffusers_model/orangemixs.vae"
   ]
  },
  {
   "cell_type": "code",
   "execution_count": null,
   "metadata": {
    "id": "90z_lrzakhbx"
   },
   "outputs": [],
   "source": [
    "from datetime import datetime\n",
    "import matplotlib.pyplot as plt\n",
    "import PIL\n",
    "import IPython\n",
    "import torch\n",
    "import torchvision\n",
    "import diffusers"
   ]
  },
  {
   "cell_type": "markdown",
   "metadata": {},
   "source": [
    "### マージモデルを作成する"
   ]
  },
  {
   "cell_type": "code",
   "execution_count": null,
   "metadata": {},
   "outputs": [],
   "source": [
    "MODEL_counterfeit = \"./diffusers_model/Counterfeit-V3.0\"\n",
    "MODEL_orangemix = \"./diffusers_model/AOM3A1B_orangemixs\"\n",
    "merge_model_pipe = diffusers.StableDiffusionPipeline.from_pretrained(pretrained_model_name_or_path=MODEL_counterfeit,\n",
    "                                                                     torch_dtype=torch.float16)\n",
    "pipe_2 = diffusers.StableDiffusionPipeline.from_pretrained(pretrained_model_name_or_path=MODEL_orangemix,\n",
    "                                                           torch_dtype=torch.float16)\n",
    "counterfeit_model_unet_param = dict(merge_model_pipe.unet.named_parameters())  # CounterfeitモデルのU-Netのパラメータ名と値を辞書型で取得\n",
    "orangemix_model_unet_param = dict(pipe_2.unet.named_parameters())  # OrangemixモデルのU-Netのパラメータ名と値を辞書型で取得\n",
    "# それぞれのモデルのU-Netのパラメータ値の平均を、マージモデルのU-Netのパラメータ値として保存\n",
    "for key, value in merge_model_pipe.unet.named_parameters():\n",
    "    value.data = 0.25 * counterfeit_model_unet_param[key] + 0.75 * orangemix_model_unet_param[key]\n",
    "counterfeit_model_textencoder_param = dict(merge_model_pipe.text_encoder.named_parameters())  # CounterfeitモデルのTextEncoderのパラメータ名と値を辞書型で取得\n",
    "orangemix_model_textencoder_param = dict(pipe_2.text_encoder.named_parameters())  # OrangemixモデルのTextEncoderのパラメータ名と値を辞書型で取得\n",
    "# それぞれのモデルのTextEncoderのパラメータ値の平均を、マージモデルのTextEncoderのパラメータ値として保存\n",
    "for key, value in merge_model_pipe.text_encoder.named_parameters():\n",
    "    value.data = 0.25 * counterfeit_model_textencoder_param[key] + 0.75 * orangemix_model_textencoder_param[key]\n",
    "counterfeit_model_vae_param = dict(merge_model_pipe.vae.named_parameters())  # CounterfeitモデルのVAEのパラメータ名と値を辞書型で取得\n",
    "orangemix_model_vae_param = dict(pipe_2.vae.named_parameters())  # OrangemixモデルのVAEのパラメータ名と値を辞書型で取得\n",
    "# それぞれのモデルのVAEのパラメータ値の平均を、マージモデルのTextEncoderのパラメータ値として保存\n",
    "for key, value in merge_model_pipe.vae.named_parameters():\n",
    "    value.data = 0.95 * counterfeit_model_vae_param[key] + 0.05 * orangemix_model_vae_param[key]\n",
    "merge_model_pipe.scheduler = diffusers.UniPCMultistepScheduler.from_config(merge_model_pipe.scheduler.config)\n",
    "merge_model_pipe.save_pretrained(save_directory=\"./diffusers_model/Counterfeit-V3.0_merge_AOM3A1B_orangemixs\")"
   ]
  },
  {
   "cell_type": "code",
   "execution_count": null,
   "metadata": {
    "id": "HmTGR_8ylX5P"
   },
   "outputs": [],
   "source": [
    "DEVICE = torch.device(\"cuda:0\" if torch.cuda.is_available() else \"cpu\")\n",
    "MODEL = \"./diffusers_model/Counterfeit-V3.0_merge_AOM3A1B_orangemixs\""
   ]
  },
  {
   "cell_type": "code",
   "execution_count": null,
   "metadata": {
    "colab": {
     "base_uri": "https://localhost:8080/",
     "height": 865,
     "referenced_widgets": [
      "29abe369cb854d21810a62aa49094c50",
      "b3021b19611d4006a37612cb9a53f177",
      "2ef7cd5ebfb144298d5d6fc1e1bcaf2b",
      "aee64cf63c634344b22d8b8531c33f08",
      "a5012577307a48f990ec74521cfbaab1",
      "347b04d8f948449f91d5db6b76d9068a",
      "26838d3875b44270918169704585cc42",
      "67d23646659c4abe8065980ed0fb3019",
      "486ee6beee83427d8d1232105280eb92",
      "81eb96dabc9c4df498ba750bd9c5eb04",
      "3f586fe1f35c47dda90880adb8e57c68",
      "62c19c639fe44808a084709ea83c7062",
      "616f3839e84943f3a50a76f3f876aa6c",
      "e7a8b5e09bc747b2b00eba91c90f99c1",
      "b074cf3afac545a4bb9d3710823738cc",
      "070a28cfe02143d984046d59a2336b64",
      "ac51eaf90ab34b24bfc0c47ded9afa26",
      "b4c109eb2ecd4752880c20d43c1bd29b",
      "93eeccf3305945589c9a662c7fb14777",
      "2835d623f7d4467d990f0a572c9fc7d6",
      "c16b72a220cc41f0b0fef5c17bbfebb5",
      "c27065b91265414b8914fc8953673c21"
     ]
    },
    "executionInfo": {
     "elapsed": 67745,
     "status": "ok",
     "timestamp": 1748786645310,
     "user": {
      "displayName": "forML",
      "userId": "00184597541824520416"
     },
     "user_tz": -540
    },
    "id": "76oX2xxl_E1J",
    "outputId": "35d0adcf-509b-4be7-b230-893d64f06278"
   },
   "outputs": [],
   "source": [
    "# トークン数と強調の制限を解除\n",
    "# https://huggingface.co/docs/diffusers/v0.12.0/en/using-diffusers/custom_pipeline_examples#long-prompt-weighting-stable-diffusion\n",
    "pipe = diffusers.DiffusionPipeline.from_pretrained(pretrained_model_name_or_path=MODEL,\n",
    "                                                   custom_pipeline=\"AlanB/lpw_stable_diffusion_update\",  # カスタムパイプラインで制限を解除\n",
    "                                                   torch_dtype=torch.float16)\n",
    "pipe.safety_checker = lambda images, **kwargs: (images, None)\n",
    "pipe.enable_vae_tiling()\n",
    "pipe.to(DEVICE)"
   ]
  },
  {
   "cell_type": "code",
   "execution_count": null,
   "metadata": {
    "id": "siht-81t88JI"
   },
   "outputs": [],
   "source": [
    "output = pipe.text2img(prompt=\"(nsfw:1.25), masterpiece, 1girl, brown eyes, black long hair, smile, looking at viewer, (simple shirt:1.05), simple background, upper body, best quality, extremely detailed\",\n",
    "                       height=512,\n",
    "                       width=512,\n",
    "                       num_inference_steps=20,\n",
    "                       guidance_scale=7.0,\n",
    "                       negative_prompt=\"longbody, lowres, bad anatomy, bad hands, missing fingers, extra digit, fewer digits, cropped, worst quality, low quality\",\n",
    "                       num_images_per_prompt=10,\n",
    "                       generator=torch.Generator().manual_seed(1234),\n",
    "                       max_embeddings_multiples=5,\n",
    "                       output_type=\"pil\")"
   ]
  },
  {
   "cell_type": "code",
   "execution_count": null,
   "metadata": {
    "id": "zGdNOPxKthUS"
   },
   "outputs": [],
   "source": [
    "print(type(output.images))\n",
    "fig = plt.figure(figsize=(10, 5))\n",
    "for i in range(len(output.images)):\n",
    "    fig.add_subplot(2, 5, i+1)\n",
    "    plt.imshow(output.images[i])\n",
    "    plt.title(i)\n",
    "    plt.axis(\"off\")\n",
    "plt.subplots_adjust(wspace=0, hspace=0.25)\n",
    "plt.show()"
   ]
  },
  {
   "cell_type": "code",
   "execution_count": null,
   "metadata": {
    "id": "MV3nj8dQtj2Y"
   },
   "outputs": [],
   "source": [
    "for j in range(len(output.images)):\n",
    "    print(type(output.images[j]))\n",
    "    IPython.display.display(output.images[j])\n",
    "    # ファイルとして保存する場合\n",
    "    now = datetime.now()\n",
    "    now_timestamp = str(now.year) + str(now.month) + str(now.day) + str(now.hour) + str(now.minute)\n",
    "    output.images[j].save(\"./Counterfeit3-0_OrangeMixs_lpw/{a}_{b}.jpeg\".format(a=now_timestamp, b=j),\n",
    "                          \"JPEG\",\n",
    "                          quality=95)"
   ]
  },
  {
   "cell_type": "code",
   "execution_count": null,
   "metadata": {
    "id": "8ThsdZDs0N4n"
   },
   "outputs": [],
   "source": []
  }
 ],
 "metadata": {
  "accelerator": "GPU",
  "colab": {
   "authorship_tag": "ABX9TyOTjTt4B/7bnNsnXROQgpnQ",
   "gpuType": "T4",
   "provenance": []
  },
  "kernelspec": {
   "display_name": "Python 3 (ipykernel)",
   "language": "python",
   "name": "python3"
  },
  "language_info": {
   "codemirror_mode": {
    "name": "ipython",
    "version": 3
   },
   "file_extension": ".py",
   "mimetype": "text/x-python",
   "name": "python",
   "nbconvert_exporter": "python",
   "pygments_lexer": "ipython3",
   "version": "3.13.7"
  }
 },
 "nbformat": 4,
 "nbformat_minor": 4
}
